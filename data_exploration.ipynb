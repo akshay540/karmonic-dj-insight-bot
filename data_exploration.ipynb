{
 "cells": [
  {
   "cell_type": "code",
   "execution_count": 1,
   "id": "80c6775f-03c2-4f4f-8120-46a738da7998",
   "metadata": {},
   "outputs": [
    {
     "data": {
      "text/html": [
       "<div>\n",
       "<style scoped>\n",
       "    .dataframe tbody tr th:only-of-type {\n",
       "        vertical-align: middle;\n",
       "    }\n",
       "\n",
       "    .dataframe tbody tr th {\n",
       "        vertical-align: top;\n",
       "    }\n",
       "\n",
       "    .dataframe thead th {\n",
       "        text-align: right;\n",
       "    }\n",
       "</style>\n",
       "<table border=\"1\" class=\"dataframe\">\n",
       "  <thead>\n",
       "    <tr style=\"text-align: right;\">\n",
       "      <th></th>\n",
       "      <th>genre</th>\n",
       "      <th>artist_name</th>\n",
       "      <th>track_name</th>\n",
       "      <th>track_id</th>\n",
       "      <th>popularity</th>\n",
       "      <th>acousticness</th>\n",
       "      <th>danceability</th>\n",
       "      <th>duration_ms</th>\n",
       "      <th>energy</th>\n",
       "      <th>instrumentalness</th>\n",
       "      <th>key</th>\n",
       "      <th>liveness</th>\n",
       "      <th>loudness</th>\n",
       "      <th>mode</th>\n",
       "      <th>speechiness</th>\n",
       "      <th>tempo</th>\n",
       "      <th>time_signature</th>\n",
       "      <th>valence</th>\n",
       "    </tr>\n",
       "  </thead>\n",
       "  <tbody>\n",
       "    <tr>\n",
       "      <th>0</th>\n",
       "      <td>Movie</td>\n",
       "      <td>Henri Salvador</td>\n",
       "      <td>C'est beau de faire un Show</td>\n",
       "      <td>0BRjO6ga9RKCKjfDqeFgWV</td>\n",
       "      <td>0</td>\n",
       "      <td>0.611</td>\n",
       "      <td>0.389</td>\n",
       "      <td>99373</td>\n",
       "      <td>0.910</td>\n",
       "      <td>0.000</td>\n",
       "      <td>C#</td>\n",
       "      <td>0.3460</td>\n",
       "      <td>-1.828</td>\n",
       "      <td>Major</td>\n",
       "      <td>0.0525</td>\n",
       "      <td>166.969</td>\n",
       "      <td>4/4</td>\n",
       "      <td>0.814</td>\n",
       "    </tr>\n",
       "    <tr>\n",
       "      <th>1</th>\n",
       "      <td>Movie</td>\n",
       "      <td>Martin &amp; les fées</td>\n",
       "      <td>Perdu d'avance (par Gad Elmaleh)</td>\n",
       "      <td>0BjC1NfoEOOusryehmNudP</td>\n",
       "      <td>1</td>\n",
       "      <td>0.246</td>\n",
       "      <td>0.590</td>\n",
       "      <td>137373</td>\n",
       "      <td>0.737</td>\n",
       "      <td>0.000</td>\n",
       "      <td>F#</td>\n",
       "      <td>0.1510</td>\n",
       "      <td>-5.559</td>\n",
       "      <td>Minor</td>\n",
       "      <td>0.0868</td>\n",
       "      <td>174.003</td>\n",
       "      <td>4/4</td>\n",
       "      <td>0.816</td>\n",
       "    </tr>\n",
       "    <tr>\n",
       "      <th>2</th>\n",
       "      <td>Movie</td>\n",
       "      <td>Joseph Williams</td>\n",
       "      <td>Don't Let Me Be Lonely Tonight</td>\n",
       "      <td>0CoSDzoNIKCRs124s9uTVy</td>\n",
       "      <td>3</td>\n",
       "      <td>0.952</td>\n",
       "      <td>0.663</td>\n",
       "      <td>170267</td>\n",
       "      <td>0.131</td>\n",
       "      <td>0.000</td>\n",
       "      <td>C</td>\n",
       "      <td>0.1030</td>\n",
       "      <td>-13.879</td>\n",
       "      <td>Minor</td>\n",
       "      <td>0.0362</td>\n",
       "      <td>99.488</td>\n",
       "      <td>5/4</td>\n",
       "      <td>0.368</td>\n",
       "    </tr>\n",
       "    <tr>\n",
       "      <th>3</th>\n",
       "      <td>Movie</td>\n",
       "      <td>Henri Salvador</td>\n",
       "      <td>Dis-moi Monsieur Gordon Cooper</td>\n",
       "      <td>0Gc6TVm52BwZD07Ki6tIvf</td>\n",
       "      <td>0</td>\n",
       "      <td>0.703</td>\n",
       "      <td>0.240</td>\n",
       "      <td>152427</td>\n",
       "      <td>0.326</td>\n",
       "      <td>0.000</td>\n",
       "      <td>C#</td>\n",
       "      <td>0.0985</td>\n",
       "      <td>-12.178</td>\n",
       "      <td>Major</td>\n",
       "      <td>0.0395</td>\n",
       "      <td>171.758</td>\n",
       "      <td>4/4</td>\n",
       "      <td>0.227</td>\n",
       "    </tr>\n",
       "    <tr>\n",
       "      <th>4</th>\n",
       "      <td>Movie</td>\n",
       "      <td>Fabien Nataf</td>\n",
       "      <td>Ouverture</td>\n",
       "      <td>0IuslXpMROHdEPvSl1fTQK</td>\n",
       "      <td>4</td>\n",
       "      <td>0.950</td>\n",
       "      <td>0.331</td>\n",
       "      <td>82625</td>\n",
       "      <td>0.225</td>\n",
       "      <td>0.123</td>\n",
       "      <td>F</td>\n",
       "      <td>0.2020</td>\n",
       "      <td>-21.150</td>\n",
       "      <td>Major</td>\n",
       "      <td>0.0456</td>\n",
       "      <td>140.576</td>\n",
       "      <td>4/4</td>\n",
       "      <td>0.390</td>\n",
       "    </tr>\n",
       "  </tbody>\n",
       "</table>\n",
       "</div>"
      ],
      "text/plain": [
       "   genre        artist_name                        track_name  \\\n",
       "0  Movie     Henri Salvador       C'est beau de faire un Show   \n",
       "1  Movie  Martin & les fées  Perdu d'avance (par Gad Elmaleh)   \n",
       "2  Movie    Joseph Williams    Don't Let Me Be Lonely Tonight   \n",
       "3  Movie     Henri Salvador    Dis-moi Monsieur Gordon Cooper   \n",
       "4  Movie       Fabien Nataf                         Ouverture   \n",
       "\n",
       "                 track_id  popularity  acousticness  danceability  \\\n",
       "0  0BRjO6ga9RKCKjfDqeFgWV           0         0.611         0.389   \n",
       "1  0BjC1NfoEOOusryehmNudP           1         0.246         0.590   \n",
       "2  0CoSDzoNIKCRs124s9uTVy           3         0.952         0.663   \n",
       "3  0Gc6TVm52BwZD07Ki6tIvf           0         0.703         0.240   \n",
       "4  0IuslXpMROHdEPvSl1fTQK           4         0.950         0.331   \n",
       "\n",
       "   duration_ms  energy  instrumentalness key  liveness  loudness   mode  \\\n",
       "0        99373   0.910             0.000  C#    0.3460    -1.828  Major   \n",
       "1       137373   0.737             0.000  F#    0.1510    -5.559  Minor   \n",
       "2       170267   0.131             0.000   C    0.1030   -13.879  Minor   \n",
       "3       152427   0.326             0.000  C#    0.0985   -12.178  Major   \n",
       "4        82625   0.225             0.123   F    0.2020   -21.150  Major   \n",
       "\n",
       "   speechiness    tempo time_signature  valence  \n",
       "0       0.0525  166.969            4/4    0.814  \n",
       "1       0.0868  174.003            4/4    0.816  \n",
       "2       0.0362   99.488            5/4    0.368  \n",
       "3       0.0395  171.758            4/4    0.227  \n",
       "4       0.0456  140.576            4/4    0.390  "
      ]
     },
     "execution_count": 1,
     "metadata": {},
     "output_type": "execute_result"
    }
   ],
   "source": [
    "import pandas as pd\n",
    "\n",
    "# Load your music dataset with the correct file path\n",
    "# Using raw string to handle Windows paths properly\n",
    "df = pd.read_csv(r\"A:\\Karmonic Projects\\Karmonic-spotify-project\\karmonic dj insight\\karmonic-dj-insight-bot\\data\\spotify_dataset.csv\")\n",
    "\n",
    "# Show the first few rows (songs)\n",
    "df.head()"
   ]
  },
  {
   "cell_type": "code",
   "execution_count": 2,
   "id": "9411e6a5-380a-49c7-a386-f2cbb59c6445",
   "metadata": {},
   "outputs": [
    {
     "data": {
      "text/plain": [
       "{'valence': np.float64(0.814),\n",
       " 'energy': np.float64(0.91),\n",
       " 'danceability': np.float64(0.389),\n",
       " 'tempo': np.float64(166.969),\n",
       " 'acousticness': np.float64(0.611),\n",
       " 'instrumentalness': np.float64(0.0)}"
      ]
     },
     "execution_count": 2,
     "metadata": {},
     "output_type": "execute_result"
    }
   ],
   "source": [
    "# Pick the first song (row 0)\n",
    "track = df.iloc[0]\n",
    "\n",
    "# Create a dictionary of the features GPT needs\n",
    "track_features = {\n",
    "    \"valence\": track[\"valence\"],\n",
    "    \"energy\": track[\"energy\"],\n",
    "    \"danceability\": track[\"danceability\"],\n",
    "    \"tempo\": track[\"tempo\"],\n",
    "    \"acousticness\": track[\"acousticness\"],\n",
    "    \"instrumentalness\": track[\"instrumentalness\"]\n",
    "}\n",
    "\n",
    "track_features\n"
   ]
  },
  {
   "cell_type": "markdown",
   "id": "3496598b-068e-4227-9141-cefca08a49f6",
   "metadata": {},
   "source": [
    "### Karmonic is holding a song 🎼🧠"
   ]
  },
  {
   "cell_type": "code",
   "execution_count": 13,
   "id": "f90b0c09-f8ee-496c-bcc6-3df72972e1ed",
   "metadata": {},
   "outputs": [
    {
     "name": "stdout",
     "output_type": "stream",
     "text": [
      "Requirement already satisfied: cohere in c:\\users\\surat\\anaconda3\\envs\\karmonic-music\\lib\\site-packages (5.16.1)\n",
      "Requirement already satisfied: fastavro<2.0.0,>=1.9.4 in c:\\users\\surat\\anaconda3\\envs\\karmonic-music\\lib\\site-packages (from cohere) (1.11.1)\n",
      "Requirement already satisfied: httpx>=0.21.2 in c:\\users\\surat\\anaconda3\\envs\\karmonic-music\\lib\\site-packages (from cohere) (0.28.1)\n",
      "Requirement already satisfied: httpx-sse==0.4.0 in c:\\users\\surat\\anaconda3\\envs\\karmonic-music\\lib\\site-packages (from cohere) (0.4.0)\n",
      "Requirement already satisfied: pydantic>=1.9.2 in c:\\users\\surat\\anaconda3\\envs\\karmonic-music\\lib\\site-packages (from cohere) (2.11.7)\n",
      "Requirement already satisfied: pydantic-core<3.0.0,>=2.18.2 in c:\\users\\surat\\anaconda3\\envs\\karmonic-music\\lib\\site-packages (from cohere) (2.33.2)\n",
      "Requirement already satisfied: requests<3.0.0,>=2.0.0 in c:\\users\\surat\\anaconda3\\envs\\karmonic-music\\lib\\site-packages (from cohere) (2.32.4)\n",
      "Requirement already satisfied: tokenizers<1,>=0.15 in c:\\users\\surat\\anaconda3\\envs\\karmonic-music\\lib\\site-packages (from cohere) (0.21.2)\n",
      "Requirement already satisfied: types-requests<3.0.0,>=2.0.0 in c:\\users\\surat\\anaconda3\\envs\\karmonic-music\\lib\\site-packages (from cohere) (2.32.4.20250611)\n",
      "Requirement already satisfied: typing_extensions>=4.0.0 in c:\\users\\surat\\anaconda3\\envs\\karmonic-music\\lib\\site-packages (from cohere) (4.14.1)\n",
      "Requirement already satisfied: charset_normalizer<4,>=2 in c:\\users\\surat\\anaconda3\\envs\\karmonic-music\\lib\\site-packages (from requests<3.0.0,>=2.0.0->cohere) (3.4.2)\n",
      "Requirement already satisfied: idna<4,>=2.5 in c:\\users\\surat\\anaconda3\\envs\\karmonic-music\\lib\\site-packages (from requests<3.0.0,>=2.0.0->cohere) (3.10)\n",
      "Requirement already satisfied: urllib3<3,>=1.21.1 in c:\\users\\surat\\anaconda3\\envs\\karmonic-music\\lib\\site-packages (from requests<3.0.0,>=2.0.0->cohere) (2.5.0)\n",
      "Requirement already satisfied: certifi>=2017.4.17 in c:\\users\\surat\\anaconda3\\envs\\karmonic-music\\lib\\site-packages (from requests<3.0.0,>=2.0.0->cohere) (2025.7.9)\n",
      "Requirement already satisfied: huggingface-hub<1.0,>=0.16.4 in c:\\users\\surat\\anaconda3\\envs\\karmonic-music\\lib\\site-packages (from tokenizers<1,>=0.15->cohere) (0.33.4)\n",
      "Requirement already satisfied: filelock in c:\\users\\surat\\anaconda3\\envs\\karmonic-music\\lib\\site-packages (from huggingface-hub<1.0,>=0.16.4->tokenizers<1,>=0.15->cohere) (3.18.0)\n",
      "Requirement already satisfied: fsspec>=2023.5.0 in c:\\users\\surat\\anaconda3\\envs\\karmonic-music\\lib\\site-packages (from huggingface-hub<1.0,>=0.16.4->tokenizers<1,>=0.15->cohere) (2025.5.1)\n",
      "Requirement already satisfied: packaging>=20.9 in c:\\users\\surat\\anaconda3\\envs\\karmonic-music\\lib\\site-packages (from huggingface-hub<1.0,>=0.16.4->tokenizers<1,>=0.15->cohere) (25.0)\n",
      "Requirement already satisfied: pyyaml>=5.1 in c:\\users\\surat\\anaconda3\\envs\\karmonic-music\\lib\\site-packages (from huggingface-hub<1.0,>=0.16.4->tokenizers<1,>=0.15->cohere) (6.0.2)\n",
      "Requirement already satisfied: tqdm>=4.42.1 in c:\\users\\surat\\anaconda3\\envs\\karmonic-music\\lib\\site-packages (from huggingface-hub<1.0,>=0.16.4->tokenizers<1,>=0.15->cohere) (4.67.1)\n",
      "Requirement already satisfied: anyio in c:\\users\\surat\\anaconda3\\envs\\karmonic-music\\lib\\site-packages (from httpx>=0.21.2->cohere) (4.9.0)\n",
      "Requirement already satisfied: httpcore==1.* in c:\\users\\surat\\anaconda3\\envs\\karmonic-music\\lib\\site-packages (from httpx>=0.21.2->cohere) (1.0.9)\n",
      "Requirement already satisfied: h11>=0.16 in c:\\users\\surat\\anaconda3\\envs\\karmonic-music\\lib\\site-packages (from httpcore==1.*->httpx>=0.21.2->cohere) (0.16.0)\n",
      "Requirement already satisfied: annotated-types>=0.6.0 in c:\\users\\surat\\anaconda3\\envs\\karmonic-music\\lib\\site-packages (from pydantic>=1.9.2->cohere) (0.7.0)\n",
      "Requirement already satisfied: typing-inspection>=0.4.0 in c:\\users\\surat\\anaconda3\\envs\\karmonic-music\\lib\\site-packages (from pydantic>=1.9.2->cohere) (0.4.1)\n",
      "Requirement already satisfied: colorama in c:\\users\\surat\\anaconda3\\envs\\karmonic-music\\lib\\site-packages (from tqdm>=4.42.1->huggingface-hub<1.0,>=0.16.4->tokenizers<1,>=0.15->cohere) (0.4.6)\n",
      "Requirement already satisfied: exceptiongroup>=1.0.2 in c:\\users\\surat\\anaconda3\\envs\\karmonic-music\\lib\\site-packages (from anyio->httpx>=0.21.2->cohere) (1.3.0)\n",
      "Requirement already satisfied: sniffio>=1.1 in c:\\users\\surat\\anaconda3\\envs\\karmonic-music\\lib\\site-packages (from anyio->httpx>=0.21.2->cohere) (1.3.1)\n"
     ]
    }
   ],
   "source": [
    "!pip install cohere"
   ]
  },
  {
   "cell_type": "code",
   "execution_count": 14,
   "id": "d6d5a440-465d-4ea1-a4df-12d33eee510c",
   "metadata": {},
   "outputs": [
    {
     "name": "stdout",
     "output_type": "stream",
     "text": [
      "🎧 Mood Summary:\n",
      "\n",
      "Pulsing with vibrant energy, this track evokes a mood of exhilarating freedom. The high valence and energy create a sense of euphoria, as if the music is bursting with life and light. The low danceability and tempo hint at a rebellious, unconventional spirit, encouraging individual expression and a break from the predictable rhythm of everyday life. \n",
      "\n",
      "This song feels like a rebellious celebration, a defiant yet joyous shout into the night. It captures the essence of youthful abandon, of throwing caution to the wind and embracing the thrilling unknown. The fast tempo and energetic vibe create a sense of urgency, as if this moment of liberation is fleeting and must be seized with passionate intensity. \n",
      "\n",
      "Imagine a wild, carefree dance under the stars, a moment of collective euphoria where inhibitions melt away. This track is the heartbeat of that celebration, an anthem for the adventurous spirit, urging you to embrace life with open arms and a fearless heart.\n"
     ]
    }
   ],
   "source": [
    "import cohere\n",
    "from dotenv import load_dotenv\n",
    "import os\n",
    "import sys\n",
    "sys.path.append('../app')\n",
    "\n",
    "from prompts import mood_summary_prompt\n",
    "\n",
    "# Load your .env key\n",
    "load_dotenv()\n",
    "api_key = os.getenv(\"COHERE_API_KEY\")\n",
    "\n",
    "# Create Cohere client\n",
    "co = cohere.Client(api_key)\n",
    "\n",
    "# Build the prompt using your track features\n",
    "prompt = mood_summary_prompt(track_features)\n",
    "\n",
    "# Send prompt to Cohere\n",
    "response = co.generate(\n",
    "    model=\"command-r-plus\",  # or \"command-r\" if needed\n",
    "    prompt=prompt,\n",
    "    max_tokens=300,\n",
    "    temperature=0.7\n",
    ")\n",
    "\n",
    "# Print GPT-style response\n",
    "print(\"🎧 Mood Summary:\\n\")\n",
    "print(response.generations[0].text.strip())\n"
   ]
  },
  {
   "cell_type": "markdown",
   "id": "9fb49641-fb47-4375-9cb2-6c5893a26b02",
   "metadata": {},
   "source": [
    "### Karmonic just got Cohere-powered 🤖🎧"
   ]
  },
  {
   "cell_type": "code",
   "execution_count": 15,
   "id": "fee40f15-60e5-4e0e-bf92-e104ad2e6231",
   "metadata": {},
   "outputs": [
    {
     "name": "stdout",
     "output_type": "stream",
     "text": [
      "Requirement already satisfied: matplotlib in c:\\users\\surat\\anaconda3\\envs\\karmonic-music\\lib\\site-packages (3.10.3)\n",
      "Requirement already satisfied: contourpy>=1.0.1 in c:\\users\\surat\\anaconda3\\envs\\karmonic-music\\lib\\site-packages (from matplotlib) (1.3.2)\n",
      "Requirement already satisfied: cycler>=0.10 in c:\\users\\surat\\anaconda3\\envs\\karmonic-music\\lib\\site-packages (from matplotlib) (0.12.1)\n",
      "Requirement already satisfied: fonttools>=4.22.0 in c:\\users\\surat\\anaconda3\\envs\\karmonic-music\\lib\\site-packages (from matplotlib) (4.58.5)\n",
      "Requirement already satisfied: kiwisolver>=1.3.1 in c:\\users\\surat\\anaconda3\\envs\\karmonic-music\\lib\\site-packages (from matplotlib) (1.4.8)\n",
      "Requirement already satisfied: numpy>=1.23 in c:\\users\\surat\\anaconda3\\envs\\karmonic-music\\lib\\site-packages (from matplotlib) (2.2.6)\n",
      "Requirement already satisfied: packaging>=20.0 in c:\\users\\surat\\anaconda3\\envs\\karmonic-music\\lib\\site-packages (from matplotlib) (25.0)\n",
      "Requirement already satisfied: pillow>=8 in c:\\users\\surat\\anaconda3\\envs\\karmonic-music\\lib\\site-packages (from matplotlib) (11.3.0)\n",
      "Requirement already satisfied: pyparsing>=2.3.1 in c:\\users\\surat\\anaconda3\\envs\\karmonic-music\\lib\\site-packages (from matplotlib) (3.2.3)\n",
      "Requirement already satisfied: python-dateutil>=2.7 in c:\\users\\surat\\anaconda3\\envs\\karmonic-music\\lib\\site-packages (from matplotlib) (2.9.0.post0)\n",
      "Requirement already satisfied: six>=1.5 in c:\\users\\surat\\anaconda3\\envs\\karmonic-music\\lib\\site-packages (from python-dateutil>=2.7->matplotlib) (1.17.0)\n",
      "Note: you may need to restart the kernel to use updated packages.\n"
     ]
    }
   ],
   "source": [
    "pip install matplotlib\n"
   ]
  },
  {
   "cell_type": "code",
   "execution_count": 17,
   "id": "3fc0c299-a6a5-4dce-be23-d1c051244759",
   "metadata": {},
   "outputs": [
    {
     "data": {
      "text/plain": [
       "[Text(0, 0.2, ''),\n",
       " Text(0, 0.4, ''),\n",
       " Text(0, 0.6000000000000001, ''),\n",
       " Text(0, 0.8, ''),\n",
       " Text(0, 1.0, '')]"
      ]
     },
     "execution_count": 17,
     "metadata": {},
     "output_type": "execute_result"
    },
    {
     "data": {
      "image/png": "[encoded data removed]",
      "text/plain": [
       "<Figure size 600x600 with 1 Axes>"
      ]
     },
     "metadata": {},
     "output_type": "display_data"
    }
   ],
   "source": [
    "import matplotlib.pyplot as plt\n",
    "import numpy as np\n",
    "\n",
    "# Use your existing track_features dictionary\n",
    "features = {\n",
    "    \"Energy\": track_features[\"energy\"],\n",
    "    \"Danceability\": track_features[\"danceability\"],\n",
    "    \"Valence\": track_features[\"valence\"],\n",
    "    \"Acousticness\": track_features[\"acousticness\"],\n",
    "    \"Instrumentalness\": track_features[\"instrumentalness\"],\n",
    "    \"Tempo (scaled)\": track_features[\"tempo\"] / 250  # scale to 0–1\n",
    "}\n",
    "\n",
    "# Prep labels and values\n",
    "labels = list(features.keys())\n",
    "values = list(features.values())\n",
    "\n",
    "# Radar needs a circular loop\n",
    "values += values[:1]  # Repeat first value at the end\n",
    "angles = np.linspace(0, 2 * np.pi, len(labels), endpoint=False).tolist()\n",
    "angles += angles[:1]\n",
    "\n",
    "# Plot setup\n",
    "fig, ax = plt.subplots(figsize=(6, 6), subplot_kw=dict(polar=True))\n",
    "ax.plot(angles, values, linewidth=2, linestyle='solid', color='mediumorchid')\n",
    "ax.fill(angles, values, alpha=0.25, color='mediumorchid')\n",
    "ax.set_yticklabels([])  # This removes the radial labels\n",
    "# If you wanted to set custom labels instead, use: ax.set_yticklabels(['0.2', '0.4', '0.6', '0.8', '1.0'])"
   ]
  },
  {
   "cell_type": "markdown",
   "id": "89b1af38-78f4-4a0c-accf-21bc2ff613e0",
   "metadata": {},
   "source": [
    "### Karmonic can see the music now 👁️🎶"
   ]
  },
  {
   "cell_type": "code",
   "execution_count": null,
   "id": "3b221cba-765e-4bae-a62a-02b011f2750d",
   "metadata": {},
   "outputs": [],
   "source": []
  }
 ],
 "metadata": {
  "kernelspec": {
   "display_name": "Python [conda env:karmonic-music]",
   "language": "python",
   "name": "conda-env-karmonic-music-py"
  },
  "language_info": {
   "codemirror_mode": {
    "name": "ipython",
    "version": 3
   },
   "file_extension": ".py",
   "mimetype": "text/x-python",
   "name": "python",
   "nbconvert_exporter": "python",
   "pygments_lexer": "ipython3",
   "version": "3.10.18"
  }
 },
 "nbformat": 4,
 "nbformat_minor": 5
}
